{
 "cells": [
  {
   "cell_type": "markdown",
   "id": "1f0d8c0e",
   "metadata": {},
   "source": [
    "Import Library"
   ]
  },
  {
   "cell_type": "code",
   "execution_count": 166,
   "id": "211a12cf",
   "metadata": {},
   "outputs": [
    {
     "name": "stdout",
     "output_type": "stream",
     "text": [
      "           name price date volume\n",
      "0  KLSE: VITROX   NaN  NaN    NaN\n",
      "1  KLSE: VITROX   NaN  NaN    NaN\n",
      "2  KLSE: VITROX   NaN  NaN    NaN\n",
      "3  KLSE: VITROX   NaN  NaN    NaN\n",
      "4  KLSE: VITROX   NaN  NaN    NaN\n",
      "Index(['name', 'price', 'date', 'volume'], dtype='object')\n"
     ]
    },
    {
     "name": "stderr",
     "output_type": "stream",
     "text": [
      "<>:6: SyntaxWarning: invalid escape sequence '\\C'\n",
      "<>:6: SyntaxWarning: invalid escape sequence '\\C'\n",
      "C:\\Users\\ACER\\AppData\\Local\\Temp\\ipykernel_19556\\2060748536.py:6: SyntaxWarning: invalid escape sequence '\\C'\n",
      "  df = pd.read_csv('R:\\CODING\\DATA SCIENCE\\Scrapping\\Scrapping Google finance\\google_finance.csv', encoding='utf-8')\n"
     ]
    }
   ],
   "source": [
    "import pandas as pd\n",
    "import numpy as np\n",
    "import matplotlib.pyplot as plt\n",
    "import seaborn as sns\n",
    "\n",
    "df = pd.read_csv('R:\\CODING\\DATA SCIENCE\\Scrapping\\Scrapping Google finance\\google_finance.csv', encoding='utf-8')\n",
    "print(df.head(5))\n",
    "print(df.columns)\n"
   ]
  },
  {
   "cell_type": "code",
   "execution_count": 167,
   "id": "ecd48c47",
   "metadata": {},
   "outputs": [
    {
     "name": "stdout",
     "output_type": "stream",
     "text": [
      "<class 'pandas.core.frame.DataFrame'>\n",
      "RangeIndex: 4550 entries, 0 to 4549\n",
      "Data columns (total 4 columns):\n",
      " #   Column  Non-Null Count  Dtype \n",
      "---  ------  --------------  ----- \n",
      " 0   name    4550 non-null   object\n",
      " 1   price   4401 non-null   object\n",
      " 2   date    4401 non-null   object\n",
      " 3   volume  4401 non-null   object\n",
      "dtypes: object(4)\n",
      "memory usage: 142.3+ KB\n"
     ]
    }
   ],
   "source": [
    "df.info()"
   ]
  },
  {
   "cell_type": "code",
   "execution_count": 168,
   "id": "adcd7d3d",
   "metadata": {},
   "outputs": [
    {
     "data": {
      "text/html": [
       "<div>\n",
       "<style scoped>\n",
       "    .dataframe tbody tr th:only-of-type {\n",
       "        vertical-align: middle;\n",
       "    }\n",
       "\n",
       "    .dataframe tbody tr th {\n",
       "        vertical-align: top;\n",
       "    }\n",
       "\n",
       "    .dataframe thead th {\n",
       "        text-align: right;\n",
       "    }\n",
       "</style>\n",
       "<table border=\"1\" class=\"dataframe\">\n",
       "  <thead>\n",
       "    <tr style=\"text-align: right;\">\n",
       "      <th></th>\n",
       "      <th>name</th>\n",
       "      <th>price</th>\n",
       "      <th>date</th>\n",
       "      <th>volume</th>\n",
       "    </tr>\n",
       "  </thead>\n",
       "  <tbody>\n",
       "    <tr>\n",
       "      <th>count</th>\n",
       "      <td>4550</td>\n",
       "      <td>4401</td>\n",
       "      <td>4401</td>\n",
       "      <td>4401</td>\n",
       "    </tr>\n",
       "    <tr>\n",
       "      <th>unique</th>\n",
       "      <td>7</td>\n",
       "      <td>638</td>\n",
       "      <td>283</td>\n",
       "      <td>482</td>\n",
       "    </tr>\n",
       "    <tr>\n",
       "      <th>top</th>\n",
       "      <td>KLSE: VITROX</td>\n",
       "      <td>MYR RM0.30</td>\n",
       "      <td>Apr 18, 2025</td>\n",
       "      <td>13M</td>\n",
       "    </tr>\n",
       "    <tr>\n",
       "      <th>freq</th>\n",
       "      <td>650</td>\n",
       "      <td>51</td>\n",
       "      <td>149</td>\n",
       "      <td>107</td>\n",
       "    </tr>\n",
       "  </tbody>\n",
       "</table>\n",
       "</div>"
      ],
      "text/plain": [
       "                name       price          date volume\n",
       "count           4550        4401          4401   4401\n",
       "unique             7         638           283    482\n",
       "top     KLSE: VITROX  MYR RM0.30  Apr 18, 2025    13M\n",
       "freq             650          51           149    107"
      ]
     },
     "execution_count": 168,
     "metadata": {},
     "output_type": "execute_result"
    }
   ],
   "source": [
    "df.describe()"
   ]
  },
  {
   "cell_type": "markdown",
   "id": "84c9056b",
   "metadata": {},
   "source": [
    "EDA"
   ]
  },
  {
   "cell_type": "code",
   "execution_count": 169,
   "id": "7a30d7b7",
   "metadata": {},
   "outputs": [
    {
     "data": {
      "text/plain": [
       "name        0\n",
       "price     149\n",
       "date      149\n",
       "volume    149\n",
       "dtype: int64"
      ]
     },
     "execution_count": 169,
     "metadata": {},
     "output_type": "execute_result"
    }
   ],
   "source": [
    "df.isnull().sum()"
   ]
  },
  {
   "cell_type": "code",
   "execution_count": 170,
   "id": "dace84f7",
   "metadata": {},
   "outputs": [
    {
     "data": {
      "text/html": [
       "<div>\n",
       "<style scoped>\n",
       "    .dataframe tbody tr th:only-of-type {\n",
       "        vertical-align: middle;\n",
       "    }\n",
       "\n",
       "    .dataframe tbody tr th {\n",
       "        vertical-align: top;\n",
       "    }\n",
       "\n",
       "    .dataframe thead th {\n",
       "        text-align: right;\n",
       "    }\n",
       "</style>\n",
       "<table border=\"1\" class=\"dataframe\">\n",
       "  <thead>\n",
       "    <tr style=\"text-align: right;\">\n",
       "      <th></th>\n",
       "      <th>name</th>\n",
       "      <th>price</th>\n",
       "      <th>date</th>\n",
       "      <th>volume</th>\n",
       "    </tr>\n",
       "  </thead>\n",
       "  <tbody>\n",
       "    <tr>\n",
       "      <th>0</th>\n",
       "      <td>KLSE: VITROX</td>\n",
       "      <td>NaN</td>\n",
       "      <td>NaN</td>\n",
       "      <td>NaN</td>\n",
       "    </tr>\n",
       "    <tr>\n",
       "      <th>1</th>\n",
       "      <td>KLSE: VITROX</td>\n",
       "      <td>NaN</td>\n",
       "      <td>NaN</td>\n",
       "      <td>NaN</td>\n",
       "    </tr>\n",
       "    <tr>\n",
       "      <th>2</th>\n",
       "      <td>KLSE: VITROX</td>\n",
       "      <td>NaN</td>\n",
       "      <td>NaN</td>\n",
       "      <td>NaN</td>\n",
       "    </tr>\n",
       "    <tr>\n",
       "      <th>3</th>\n",
       "      <td>KLSE: VITROX</td>\n",
       "      <td>NaN</td>\n",
       "      <td>NaN</td>\n",
       "      <td>NaN</td>\n",
       "    </tr>\n",
       "    <tr>\n",
       "      <th>4</th>\n",
       "      <td>KLSE: VITROX</td>\n",
       "      <td>NaN</td>\n",
       "      <td>NaN</td>\n",
       "      <td>NaN</td>\n",
       "    </tr>\n",
       "    <tr>\n",
       "      <th>...</th>\n",
       "      <td>...</td>\n",
       "      <td>...</td>\n",
       "      <td>...</td>\n",
       "      <td>...</td>\n",
       "    </tr>\n",
       "    <tr>\n",
       "      <th>3917</th>\n",
       "      <td>KLSE: GREATEC</td>\n",
       "      <td>NaN</td>\n",
       "      <td>NaN</td>\n",
       "      <td>NaN</td>\n",
       "    </tr>\n",
       "    <tr>\n",
       "      <th>3918</th>\n",
       "      <td>KLSE: GREATEC</td>\n",
       "      <td>NaN</td>\n",
       "      <td>NaN</td>\n",
       "      <td>NaN</td>\n",
       "    </tr>\n",
       "    <tr>\n",
       "      <th>3919</th>\n",
       "      <td>KLSE: GREATEC</td>\n",
       "      <td>NaN</td>\n",
       "      <td>NaN</td>\n",
       "      <td>NaN</td>\n",
       "    </tr>\n",
       "    <tr>\n",
       "      <th>3920</th>\n",
       "      <td>KLSE: GREATEC</td>\n",
       "      <td>NaN</td>\n",
       "      <td>NaN</td>\n",
       "      <td>NaN</td>\n",
       "    </tr>\n",
       "    <tr>\n",
       "      <th>3921</th>\n",
       "      <td>KLSE: GREATEC</td>\n",
       "      <td>NaN</td>\n",
       "      <td>NaN</td>\n",
       "      <td>NaN</td>\n",
       "    </tr>\n",
       "  </tbody>\n",
       "</table>\n",
       "<p>149 rows × 4 columns</p>\n",
       "</div>"
      ],
      "text/plain": [
       "               name price date volume\n",
       "0      KLSE: VITROX   NaN  NaN    NaN\n",
       "1      KLSE: VITROX   NaN  NaN    NaN\n",
       "2      KLSE: VITROX   NaN  NaN    NaN\n",
       "3      KLSE: VITROX   NaN  NaN    NaN\n",
       "4      KLSE: VITROX   NaN  NaN    NaN\n",
       "...             ...   ...  ...    ...\n",
       "3917  KLSE: GREATEC   NaN  NaN    NaN\n",
       "3918  KLSE: GREATEC   NaN  NaN    NaN\n",
       "3919  KLSE: GREATEC   NaN  NaN    NaN\n",
       "3920  KLSE: GREATEC   NaN  NaN    NaN\n",
       "3921  KLSE: GREATEC   NaN  NaN    NaN\n",
       "\n",
       "[149 rows x 4 columns]"
      ]
     },
     "execution_count": 170,
     "metadata": {},
     "output_type": "execute_result"
    }
   ],
   "source": [
    "null_data = df[df.isnull().any(axis=1)]\n",
    "null_data"
   ]
  },
  {
   "cell_type": "code",
   "execution_count": 171,
   "id": "741f6519",
   "metadata": {},
   "outputs": [
    {
     "data": {
      "text/plain": [
       "np.int64(2730)"
      ]
     },
     "execution_count": 171,
     "metadata": {},
     "output_type": "execute_result"
    }
   ],
   "source": [
    "df.duplicated().sum()"
   ]
  },
  {
   "cell_type": "code",
   "execution_count": 172,
   "id": "b70d56e8",
   "metadata": {},
   "outputs": [
    {
     "data": {
      "text/html": [
       "<div>\n",
       "<style scoped>\n",
       "    .dataframe tbody tr th:only-of-type {\n",
       "        vertical-align: middle;\n",
       "    }\n",
       "\n",
       "    .dataframe tbody tr th {\n",
       "        vertical-align: top;\n",
       "    }\n",
       "\n",
       "    .dataframe thead th {\n",
       "        text-align: right;\n",
       "    }\n",
       "</style>\n",
       "<table border=\"1\" class=\"dataframe\">\n",
       "  <thead>\n",
       "    <tr style=\"text-align: right;\">\n",
       "      <th></th>\n",
       "      <th>name</th>\n",
       "      <th>price</th>\n",
       "      <th>date</th>\n",
       "      <th>volume</th>\n",
       "    </tr>\n",
       "  </thead>\n",
       "  <tbody>\n",
       "    <tr>\n",
       "      <th>1</th>\n",
       "      <td>KLSE: VITROX</td>\n",
       "      <td>NaN</td>\n",
       "      <td>NaN</td>\n",
       "      <td>NaN</td>\n",
       "    </tr>\n",
       "    <tr>\n",
       "      <th>2</th>\n",
       "      <td>KLSE: VITROX</td>\n",
       "      <td>NaN</td>\n",
       "      <td>NaN</td>\n",
       "      <td>NaN</td>\n",
       "    </tr>\n",
       "    <tr>\n",
       "      <th>3</th>\n",
       "      <td>KLSE: VITROX</td>\n",
       "      <td>NaN</td>\n",
       "      <td>NaN</td>\n",
       "      <td>NaN</td>\n",
       "    </tr>\n",
       "    <tr>\n",
       "      <th>4</th>\n",
       "      <td>KLSE: VITROX</td>\n",
       "      <td>NaN</td>\n",
       "      <td>NaN</td>\n",
       "      <td>NaN</td>\n",
       "    </tr>\n",
       "    <tr>\n",
       "      <th>5</th>\n",
       "      <td>KLSE: VITROX</td>\n",
       "      <td>NaN</td>\n",
       "      <td>NaN</td>\n",
       "      <td>NaN</td>\n",
       "    </tr>\n",
       "    <tr>\n",
       "      <th>...</th>\n",
       "      <td>...</td>\n",
       "      <td>...</td>\n",
       "      <td>...</td>\n",
       "      <td>...</td>\n",
       "    </tr>\n",
       "    <tr>\n",
       "      <th>4545</th>\n",
       "      <td>KLSE: GREATEC</td>\n",
       "      <td>MYR RM1.31</td>\n",
       "      <td>Apr 18, 2025</td>\n",
       "      <td>29M</td>\n",
       "    </tr>\n",
       "    <tr>\n",
       "      <th>4546</th>\n",
       "      <td>KLSE: GREATEC</td>\n",
       "      <td>MYR RM1.31</td>\n",
       "      <td>Apr 18, 2025</td>\n",
       "      <td>29M</td>\n",
       "    </tr>\n",
       "    <tr>\n",
       "      <th>4547</th>\n",
       "      <td>KLSE: GREATEC</td>\n",
       "      <td>MYR RM1.31</td>\n",
       "      <td>Apr 18, 2025</td>\n",
       "      <td>29M</td>\n",
       "    </tr>\n",
       "    <tr>\n",
       "      <th>4548</th>\n",
       "      <td>KLSE: GREATEC</td>\n",
       "      <td>MYR RM1.31</td>\n",
       "      <td>Apr 18, 2025</td>\n",
       "      <td>29M</td>\n",
       "    </tr>\n",
       "    <tr>\n",
       "      <th>4549</th>\n",
       "      <td>KLSE: GREATEC</td>\n",
       "      <td>MYR RM1.31</td>\n",
       "      <td>Apr 18, 2025</td>\n",
       "      <td>29M</td>\n",
       "    </tr>\n",
       "  </tbody>\n",
       "</table>\n",
       "<p>2730 rows × 4 columns</p>\n",
       "</div>"
      ],
      "text/plain": [
       "               name       price          date volume\n",
       "1      KLSE: VITROX         NaN           NaN    NaN\n",
       "2      KLSE: VITROX         NaN           NaN    NaN\n",
       "3      KLSE: VITROX         NaN           NaN    NaN\n",
       "4      KLSE: VITROX         NaN           NaN    NaN\n",
       "5      KLSE: VITROX         NaN           NaN    NaN\n",
       "...             ...         ...           ...    ...\n",
       "4545  KLSE: GREATEC  MYR RM1.31  Apr 18, 2025    29M\n",
       "4546  KLSE: GREATEC  MYR RM1.31  Apr 18, 2025    29M\n",
       "4547  KLSE: GREATEC  MYR RM1.31  Apr 18, 2025    29M\n",
       "4548  KLSE: GREATEC  MYR RM1.31  Apr 18, 2025    29M\n",
       "4549  KLSE: GREATEC  MYR RM1.31  Apr 18, 2025    29M\n",
       "\n",
       "[2730 rows x 4 columns]"
      ]
     },
     "execution_count": 172,
     "metadata": {},
     "output_type": "execute_result"
    }
   ],
   "source": [
    "df_duplicates = df[df.duplicated()]\n",
    "df_duplicates"
   ]
  },
  {
   "cell_type": "code",
   "execution_count": 173,
   "id": "43935fbf",
   "metadata": {},
   "outputs": [],
   "source": [
    "df['name'] = df['name'].str.replace('KLSE: ', '', regex=False).str.strip()\n"
   ]
  },
  {
   "cell_type": "code",
   "execution_count": 174,
   "id": "469cded5",
   "metadata": {},
   "outputs": [
    {
     "name": "stdout",
     "output_type": "stream",
     "text": [
      "KLSE NAME:  ['VITROX' 'GTRONIC' 'FRONTKN' 'MQTECH' 'KESM' 'PENTA' 'GREATEC']\n"
     ]
    }
   ],
   "source": [
    "# unique category dari province\n",
    "unique_Province = df['name'].unique()\n",
    "print('KLSE NAME: ', unique_Province)"
   ]
  },
  {
   "cell_type": "code",
   "execution_count": 175,
   "id": "37e3ac34",
   "metadata": {},
   "outputs": [],
   "source": [
    "# 1. Clean 'price' column\n",
    "df['price'] = df['price'].str.replace('MYR RM', '', regex=False)\n",
    "df['price'] = pd.to_numeric(df['price'], errors='coerce')"
   ]
  },
  {
   "cell_type": "code",
   "execution_count": 176,
   "id": "b634a502",
   "metadata": {},
   "outputs": [],
   "source": [
    "# 2. Convert 'date' to standard format\n",
    "df['date'] = pd.to_datetime(df['date'], format='%b %d %Y', errors='coerce').dt.strftime('%Y-%m-%d')\n"
   ]
  },
  {
   "cell_type": "code",
   "execution_count": 177,
   "id": "e5b2b0f5",
   "metadata": {},
   "outputs": [],
   "source": [
    "def convert_volume(val):\n",
    "    if pd.isna(val):\n",
    "        return val\n",
    "    val = str(val).strip().upper()\n",
    "    if val.endswith('K'):\n",
    "        return float(val[:-1]) * 1_000\n",
    "    elif val.endswith('M'):\n",
    "        return float(val[:-1]) * 1_000_000\n",
    "    elif val.endswith('B'):\n",
    "        return float(val[:-1]) * 1_000_000_000\n",
    "    else:\n",
    "        try:\n",
    "            return float(val)\n",
    "        except:\n",
    "            return pd.NA\n",
    "\n",
    "df['volume'] = df['volume'].apply(convert_volume).astype('float64')\n"
   ]
  },
  {
   "cell_type": "code",
   "execution_count": 178,
   "id": "368b2225",
   "metadata": {},
   "outputs": [
    {
     "name": "stdout",
     "output_type": "stream",
     "text": [
      "Jumlah outliers di kolom price: 236\n",
      "Jumlah outliers di kolom volume: 363\n"
     ]
    }
   ],
   "source": [
    "Q1_price = df['price'].quantile(0.25)\n",
    "Q3_price = df['price'].quantile(0.75)\n",
    "IQR_price = Q3_price - Q1_price\n",
    "lower_bound_price = Q1_price - 1.5 * IQR_price\n",
    "upper_bound_price = Q3_price + 1.5 * IQR_price\n",
    "\n",
    "Q1_volume = df['volume'].quantile(0.25)\n",
    "Q3_volume = df['volume'].quantile(0.75)\n",
    "IQR_volume = Q3_volume - Q1_volume\n",
    "lower_bound_volume = Q1_volume - 1.5 * IQR_volume\n",
    "upper_bound_volume = Q3_volume + 1.5 * IQR_volume\n",
    "\n",
    "outliers_price = ((df['price'] < lower_bound_price) | (df['price'] > upper_bound_price))\n",
    "outliers_volume = ((df['volume'] < lower_bound_volume) | (df['volume'] > upper_bound_volume))\n",
    "\n",
    "print(f\"Jumlah outliers di kolom price: {outliers_price.sum()}\")\n",
    "print(f\"Jumlah outliers di kolom volume: {outliers_volume.sum()}\")\n",
    "\n",
    "df['price_cleaned'] = df['price'].clip(lower_bound_price, upper_bound_price)\n",
    "df['volume_cleaned'] = df['volume'].clip(lower_bound_volume, upper_bound_volume)\n"
   ]
  },
  {
   "cell_type": "code",
   "execution_count": 185,
   "id": "e5318bb4",
   "metadata": {},
   "outputs": [
    {
     "data": {
      "image/png": "[encoded data removed]",
      "text/plain": [
       "<Figure size 1000x600 with 2 Axes>"
      ]
     },
     "metadata": {},
     "output_type": "display_data"
    }
   ],
   "source": [
    "# Menghapus duplikasi\n",
    "df = df.drop_duplicates()\n",
    "\n",
    "\n",
    "# Mengisi nilai NaN dengan interpolasi\n",
    "df['price'] = df['price'].interpolate(method='linear')\n",
    "df['volume'] = df['volume'].interpolate(method='linear')\n",
    "\n",
    "# Menambahkan kolom baru\n",
    "df['price_to_volume_ratio'] = df['price_cleaned'] / df['volume_cleaned']\n",
    "\n",
    "# Visualisasi heatmap\n",
    "corr_matrix = df[['price', 'volume']].corr()\n",
    "plt.figure(figsize=(10, 6))\n",
    "sns.heatmap(corr_matrix, annot=True, cmap='coolwarm')\n",
    "plt.title('Correlation Matrix')\n",
    "plt.show()"
   ]
  },
  {
   "cell_type": "code",
   "execution_count": 188,
   "id": "9d88e646",
   "metadata": {},
   "outputs": [
    {
     "ename": "KeyError",
     "evalue": "'date'",
     "output_type": "error",
     "traceback": [
      "\u001b[31m---------------------------------------------------------------------------\u001b[39m",
      "\u001b[31mKeyError\u001b[39m                                  Traceback (most recent call last)",
      "\u001b[32m~\\AppData\\Local\\Temp\\ipykernel_19556\\901287155.py\u001b[39m in \u001b[36m?\u001b[39m\u001b[34m()\u001b[39m\n\u001b[32m----> \u001b[39m\u001b[32m1\u001b[39m df_cleaned = df.sort_values(by=\u001b[33m'date'\u001b[39m).reset_index(drop=\u001b[38;5;28;01mTrue\u001b[39;00m)\n\u001b[32m      2\u001b[39m plt.figure(figsize=(\u001b[32m12\u001b[39m, \u001b[32m6\u001b[39m))\n\u001b[32m      3\u001b[39m \n\u001b[32m      4\u001b[39m plt.figure(figsize=(\u001b[32m16\u001b[39m, \u001b[32m6\u001b[39m))\n",
      "\u001b[32m~\\AppData\\Roaming\\Python\\Python313\\site-packages\\pandas\\core\\frame.py\u001b[39m in \u001b[36m?\u001b[39m\u001b[34m(self, by, axis, ascending, inplace, kind, na_position, ignore_index, key)\u001b[39m\n\u001b[32m   7185\u001b[39m             )\n\u001b[32m   7186\u001b[39m         \u001b[38;5;28;01melif\u001b[39;00m len(by):\n\u001b[32m   7187\u001b[39m             \u001b[38;5;66;03m# len(by) == 1\u001b[39;00m\n\u001b[32m   7188\u001b[39m \n\u001b[32m-> \u001b[39m\u001b[32m7189\u001b[39m             k = self._get_label_or_level_values(by[\u001b[32m0\u001b[39m], axis=axis)\n\u001b[32m   7190\u001b[39m \n\u001b[32m   7191\u001b[39m             \u001b[38;5;66;03m# need to rewrap column in Series to apply key function\u001b[39;00m\n\u001b[32m   7192\u001b[39m             \u001b[38;5;28;01mif\u001b[39;00m key \u001b[38;5;28;01mis\u001b[39;00m \u001b[38;5;28;01mnot\u001b[39;00m \u001b[38;5;28;01mNone\u001b[39;00m:\n",
      "\u001b[32m~\\AppData\\Roaming\\Python\\Python313\\site-packages\\pandas\\core\\generic.py\u001b[39m in \u001b[36m?\u001b[39m\u001b[34m(self, key, axis)\u001b[39m\n\u001b[32m   1907\u001b[39m             values = self.xs(key, axis=other_axes[\u001b[32m0\u001b[39m])._values\n\u001b[32m   1908\u001b[39m         \u001b[38;5;28;01melif\u001b[39;00m self._is_level_reference(key, axis=axis):\n\u001b[32m   1909\u001b[39m             values = self.axes[axis].get_level_values(key)._values\n\u001b[32m   1910\u001b[39m         \u001b[38;5;28;01melse\u001b[39;00m:\n\u001b[32m-> \u001b[39m\u001b[32m1911\u001b[39m             \u001b[38;5;28;01mraise\u001b[39;00m KeyError(key)\n\u001b[32m   1912\u001b[39m \n\u001b[32m   1913\u001b[39m         \u001b[38;5;66;03m# Check for duplicates\u001b[39;00m\n\u001b[32m   1914\u001b[39m         \u001b[38;5;28;01mif\u001b[39;00m values.ndim > \u001b[32m1\u001b[39m:\n",
      "\u001b[31mKeyError\u001b[39m: 'date'"
     ]
    }
   ],
   "source": [
    "df_cleaned = df.sort_values(by='date').reset_index(drop=True)\n",
    "plt.figure(figsize=(12, 6))\n",
    "\n",
    "plt.figure(figsize=(16, 6))\n",
    "plt.subplot(1, 2, 1)\n",
    "sns.histplot(df_cleaned['price'], bins=30, kde=True, color='red', alpha=0.5, label='Original')\n",
    "sns.histplot(df_cleaned['price_cleaned'], bins=30, kde=True, color='blue', alpha=0.5, label='Cleaned')\n",
    "plt.title('Distribusi Harga: Original vs Cleaned')\n",
    "plt.xlabel('Harga')\n",
    "plt.ylabel('Frekuensi')\n",
    "plt.legend()\n",
    "\n",
    "plt.subplot(1, 2, 2)\n",
    "sns.histplot(df_cleaned['volume'], bins=30, kde=True, color='red', alpha=0.5, label='Original')\n",
    "sns.histplot(df_cleaned['volume_cleaned'], bins=30, kde=True, color='blue', alpha=0.5, label='Cleaned')\n",
    "plt.title('Distribusi Volume: Original vs Cleaned')\n",
    "plt.xlabel('Volume')\n",
    "plt.ylabel('Frekuensi')\n",
    "plt.legend()\n",
    "plt.tight_layout()\n",
    "plt.show()\n",
    "\n",
    "plt.figure(figsize=(10, 6))\n",
    "sns.scatterplot(data=df_cleaned, x='price_cleaned', y='volume_cleaned', alpha=0.7)\n",
    "plt.title('Hubungan antara Harga dan Volume (Data Cleaned)')\n",
    "plt.xlabel('Harga')\n",
    "plt.ylabel('Volume')\n",
    "plt.show()\n",
    "\n",
    "plt.figure(figsize=(12, 6))\n",
    "ax = sns.lineplot(data=df_cleaned, x='date', y='price_cleaned', ci=None)\n",
    "plt.gcf().autofmt_xdate()\n",
    "plt.xticks(rotation=45)\n",
    "plt.grid(True, linestyle='--', alpha=0.7)\n",
    "plt.title('Tren Harga dari Waktu ke Waktu (Data Cleaned)')\n",
    "plt.xlabel('date')\n",
    "plt.ylabel('Harga')\n",
    "plt.tight_layout()\n",
    "plt.show()\n",
    "\n",
    "plt.figure(figsize=(12, 6))\n",
    "sns.lineplot(data=df_cleaned, x='date', y='volume_cleaned', ci=None)\n",
    "plt.title('Tren Volume dari Waktu ke Waktu (Data Cleaned)')\n",
    "plt.xlabel('date')\n",
    "plt.ylabel('Volume')\n",
    "plt.xticks(rotation=45)\n",
    "plt.show()"
   ]
  },
  {
   "cell_type": "code",
   "execution_count": 160,
   "id": "ff882fa3",
   "metadata": {},
   "outputs": [
    {
     "name": "stdout",
     "output_type": "stream",
     "text": [
      "\n",
      "Statistik deskriptif setelah pembersihan:\n",
      "             price  price_cleaned        volume  volume_cleaned\n",
      "count  4401.000000    4401.000000  4.401000e+03    4.401000e+03\n",
      "mean      3.398128       3.224944  2.011156e+07    1.137568e+07\n",
      "std       2.633262       2.116766  7.471139e+07    1.204762e+07\n",
      "min       0.070000       0.070000  6.000000e+02    6.000000e+02\n",
      "25%       1.590000       1.590000  1.800000e+06    1.800000e+06\n",
      "50%       3.100000       3.100000  7.100000e+06    7.100000e+06\n",
      "75%       4.150000       4.150000  1.700000e+07    1.700000e+07\n",
      "max      17.300000       7.990000  1.500000e+09    3.980000e+07\n"
     ]
    }
   ],
   "source": [
    "# 8. Statistik deskriptif setelah pembersihan\n",
    "print(\"\\nStatistik deskriptif setelah pembersihan:\")\n",
    "print(df_cleaned[['price', 'price_cleaned', 'volume', 'volume_cleaned']].describe())\n"
   ]
  },
  {
   "cell_type": "code",
   "execution_count": 155,
   "id": "23bbce11",
   "metadata": {},
   "outputs": [
    {
     "data": {
      "text/plain": [
       "<Figure size 1600x1000 with 0 Axes>"
      ]
     },
     "execution_count": 155,
     "metadata": {},
     "output_type": "execute_result"
    },
    {
     "data": {
      "text/plain": [
       "<Figure size 1600x1000 with 0 Axes>"
      ]
     },
     "metadata": {},
     "output_type": "display_data"
    }
   ],
   "source": [
    "# 5. Boxplot untuk visualisasi outliers sebelum dan sesudah treatment\n",
    "plt.figure(figsize=(16, 10))\n"
   ]
  },
  {
   "cell_type": "code",
   "execution_count": 156,
   "id": "a53c939f",
   "metadata": {},
   "outputs": [
    {
     "data": {
      "text/plain": [
       "Text(0.5, 0, 'Price')"
      ]
     },
     "execution_count": 156,
     "metadata": {},
     "output_type": "execute_result"
    },
    {
     "data": {
      "image/png": "[encoded data removed]",
      "text/plain": [
       "<Figure size 640x480 with 1 Axes>"
      ]
     },
     "metadata": {},
     "output_type": "display_data"
    }
   ],
   "source": [
    "# Price boxplots\n",
    "plt.subplot(2, 2, 1)\n",
    "sns.boxplot(x=df_cleaned['price'])\n",
    "plt.title('Price Boxplot (Before Treatment)')\n",
    "plt.xlabel('Price')"
   ]
  },
  {
   "cell_type": "code",
   "execution_count": 157,
   "id": "b4c27b1e",
   "metadata": {},
   "outputs": [
    {
     "data": {
      "text/plain": [
       "Text(0.5, 0, 'Price (Cleaned)')"
      ]
     },
     "execution_count": 157,
     "metadata": {},
     "output_type": "execute_result"
    },
    {
     "data": {
      "image/png": "[encoded data removed]",
      "text/plain": [
       "<Figure size 640x480 with 1 Axes>"
      ]
     },
     "metadata": {},
     "output_type": "display_data"
    }
   ],
   "source": [
    "plt.subplot(2, 2, 2)\n",
    "sns.boxplot(x=df_cleaned['price_cleaned'])\n",
    "plt.title('Price Boxplot (After Treatment)')\n",
    "plt.xlabel('Price (Cleaned)')"
   ]
  },
  {
   "cell_type": "code",
   "execution_count": 158,
   "id": "51483b03",
   "metadata": {},
   "outputs": [
    {
     "data": {
      "text/plain": [
       "Text(0.5, 0, 'Volume')"
      ]
     },
     "execution_count": 158,
     "metadata": {},
     "output_type": "execute_result"
    },
    {
     "data": {
      "image/png": "[encoded data removed]",
      "text/plain": [
       "<Figure size 640x480 with 1 Axes>"
      ]
     },
     "metadata": {},
     "output_type": "display_data"
    }
   ],
   "source": [
    "# Volume boxplots\n",
    "plt.subplot(2, 2, 3)\n",
    "sns.boxplot(x=df_cleaned['volume'])\n",
    "plt.title('Volume Boxplot (Before Treatment)')\n",
    "plt.xlabel('Volume')"
   ]
  },
  {
   "cell_type": "code",
   "execution_count": 159,
   "id": "ed70b9be",
   "metadata": {},
   "outputs": [
    {
     "data": {
      "text/plain": [
       "Text(0.5, 0, 'Volume (Cleaned)')"
      ]
     },
     "execution_count": 159,
     "metadata": {},
     "output_type": "execute_result"
    },
    {
     "data": {
      "image/png": "[encoded data removed]",
      "text/plain": [
       "<Figure size 640x480 with 1 Axes>"
      ]
     },
     "metadata": {},
     "output_type": "display_data"
    }
   ],
   "source": [
    "plt.subplot(2, 2, 4)\n",
    "sns.boxplot(x=df_cleaned['volume_cleaned'])\n",
    "plt.title('Volume Boxplot (After Treatment)')\n",
    "plt.xlabel('Volume (Cleaned)')"
   ]
  },
  {
   "cell_type": "code",
   "execution_count": null,
   "id": "97e1e261",
   "metadata": {},
   "outputs": [
    {
     "data": {
      "text/plain": [
       "name                 0\n",
       "price              149\n",
       "date              4550\n",
       "volume             149\n",
       "price_cleaned      149\n",
       "volume_cleaned     149\n",
       "dtype: int64"
      ]
     },
     "execution_count": 163,
     "metadata": {},
     "output_type": "execute_result"
    }
   ],
   "source": [
    "df.isnull().sum()"
   ]
  },
  {
   "cell_type": "code",
   "execution_count": 164,
   "id": "36a36de5",
   "metadata": {},
   "outputs": [
    {
     "data": {
      "text/plain": [
       "name                 0\n",
       "price              149\n",
       "date              4550\n",
       "volume             149\n",
       "price_cleaned      149\n",
       "volume_cleaned     149\n",
       "dtype: int64"
      ]
     },
     "execution_count": 164,
     "metadata": {},
     "output_type": "execute_result"
    }
   ],
   "source": [
    "df_cleaned.isnull().sum()"
   ]
  },
  {
   "cell_type": "code",
   "execution_count": null,
   "id": "3f9e093a",
   "metadata": {},
   "outputs": [],
   "source": []
  }
 ],
 "metadata": {
  "kernelspec": {
   "display_name": "Python 3",
   "language": "python",
   "name": "python3"
  },
  "language_info": {
   "codemirror_mode": {
    "name": "ipython",
    "version": 3
   },
   "file_extension": ".py",
   "mimetype": "text/x-python",
   "name": "python",
   "nbconvert_exporter": "python",
   "pygments_lexer": "ipython3",
   "version": "3.13.1"
  }
 },
 "nbformat": 4,
 "nbformat_minor": 5
}
